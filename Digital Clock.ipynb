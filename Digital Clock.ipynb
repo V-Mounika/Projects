{
 "cells": [
  {
   "cell_type": "code",
   "execution_count": 19,
   "id": "1c5a4402",
   "metadata": {},
   "outputs": [],
   "source": [
    "import tkinter\n",
    "import time\n",
    "\n",
    "main_window = tkinter.Tk() \n",
    "main_window.title(\"Clock\") \n",
    "main_window.geometry(\"576x150\") \n",
    "\n",
    "\n",
    "text_font= (\"Thoma\", 70, 'bold')\n",
    "background = \"black\"\n",
    "foreground= \"white\"\n",
    "border_width = 25\n",
    "\n",
    "label = tkinter.Label(main_window, font=text_font, bg=background, fg=foreground, bd=border_width) \n",
    "label.grid(row=0, column=1)\n",
    "\n",
    "def clock():  \n",
    "    time_live = time.strftime(\"%I:%M:%S %p\")\n",
    "    label.config(text=time_live) \n",
    "    label.after(200, clock)\n",
    "\n",
    "clock()\n",
    "main_window.mainloop()"
   ]
  },
  {
   "cell_type": "code",
   "execution_count": null,
   "id": "6c7e7122",
   "metadata": {},
   "outputs": [],
   "source": []
  },
  {
   "cell_type": "code",
   "execution_count": null,
   "id": "949b6b4a",
   "metadata": {},
   "outputs": [],
   "source": []
  }
 ],
 "metadata": {
  "kernelspec": {
   "display_name": "Python 3",
   "language": "python",
   "name": "python3"
  },
  "language_info": {
   "codemirror_mode": {
    "name": "ipython",
    "version": 3
   },
   "file_extension": ".py",
   "mimetype": "text/x-python",
   "name": "python",
   "nbconvert_exporter": "python",
   "pygments_lexer": "ipython3",
   "version": "3.9.4"
  }
 },
 "nbformat": 4,
 "nbformat_minor": 5
}
